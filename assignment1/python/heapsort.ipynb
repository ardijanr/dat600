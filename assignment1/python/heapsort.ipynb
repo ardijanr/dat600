{
 "cells": [
  {
   "cell_type": "markdown",
   "metadata": {},
   "source": [
    "# Heap Sort\n",
    "\n",
    "This works through creating a heap, then draining each element out to one side and by reducing the heap size within the array."
   ]
  },
  {
   "cell_type": "code",
   "execution_count": 78,
   "metadata": {
    "tags": []
   },
   "outputs": [],
   "source": [
    "def get_child_right_index(i:int)->int:\n",
    "    return 2*i+2\n",
    "\n",
    "def get_child_left_index(i:int)->int:\n",
    "    return 2*i+1\n",
    "\n",
    "def generate_heap(array:[int],parent:int,heap_size:int,count:[int]):\n",
    "    left = get_child_left_index(parent)\n",
    "    right = get_child_right_index(parent)\n",
    "\n",
    "    count[0]+=1\n",
    "\n",
    "    largest = parent\n",
    "    if left < heap_size and array[left] > array[largest]:\n",
    "        largest = left\n",
    "\n",
    "\n",
    "    if right < heap_size and array[right] > array[largest]:\n",
    "        largest = right\n",
    "\n",
    "    if largest != parent:\n",
    "        array[parent], array[largest] = (array[largest],array[parent])\n",
    "        generate_heap(array,parent,heap_size,count)\n",
    "\n",
    "def sort(array:[int],count:[int]):\n",
    "    for root in range(len(array)//2-1,-1,-1):\n",
    "        generate_heap(array,root,len(array),count)\n",
    "\n",
    "    for array_size in range(len(array)-1,0,-1):\n",
    "        count[0]+=1\n",
    "        array[0], array[array_size] = (array[array_size],array[0])\n",
    "        generate_heap(array,0,array_size,count)"
   ]
  }
 ],
 "metadata": {
  "kernelspec": {
   "display_name": "Python 3 (ipykernel)",
   "language": "python",
   "name": "python3"
  },
  "language_info": {
   "codemirror_mode": {
    "name": "ipython",
    "version": 3
   },
   "file_extension": ".py",
   "mimetype": "text/x-python",
   "name": "python",
   "nbconvert_exporter": "python",
   "pygments_lexer": "ipython3",
   "version": "3.10.9"
  }
 },
 "nbformat": 4,
 "nbformat_minor": 4
}
