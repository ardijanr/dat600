{
 "cells": [
  {
   "cell_type": "markdown",
   "id": "1dd02e10-aa3f-4f2d-86c9-65c6d43e5363",
   "metadata": {},
   "source": [
    "Due to this being python the merge function must be defined before it can be used, this function merges the two sub parts of the array which has been split in two.\n",
    "\n",
    "The goal here is to drain the smallest value first then the larger ones into the result array, thus producing a sorted result.\n"
   ]
  },
  {
   "cell_type": "code",
   "execution_count": 65,
   "id": "21785a4d-7145-4e94-ae1a-d0751a215f64",
   "metadata": {
    "tags": []
   },
   "outputs": [],
   "source": [
    "def merge(left:[int],right:[int],count:[int])->[int]:\n",
    "    result = []\n",
    "    \n",
    "\n",
    "    # while left and right:\n",
    "    while len(left)>0 and len(right)>0:\n",
    "        count[0]+=1\n",
    "        if left[0]<=right[0]:\n",
    "            result.append(left.pop(0))\n",
    "        else:\n",
    "            result.append(right.pop(0))\n",
    "\n",
    "    # At this point one array is empty\n",
    "    # and the other is not if that is the case\n",
    "    # we must drain them\n",
    "    while len(left)>0:\n",
    "        count[0]+=1\n",
    "        result.append(left.pop(0))\n",
    "    while len(right)>0:\n",
    "        count[0]+=1\n",
    "        result.append(right.pop(0))\n",
    "\n",
    "    return result\n",
    "\n"
   ]
  },
  {
   "cell_type": "markdown",
   "id": "5b0984c2-1b09-46df-b9ba-8d4b946ca193",
   "metadata": {},
   "source": [
    "This is the recursive part of the function which slices the arrays into two halves using integer division, ensuring that all elements end up in either the left or right input for the merge function.\n",
    "\n"
   ]
  },
  {
   "cell_type": "code",
   "execution_count": 66,
   "id": "118341f1-2ebf-476b-83f8-cdf8de1067a3",
   "metadata": {
    "tags": []
   },
   "outputs": [],
   "source": [
    "def merge_sort(array:[int],count:[int])->[int]:\n",
    "    if len(array)>3:\n",
    "        return merge(merge_sort(array[:len(array)//2],count),merge_sort(array[len(array)//2:],count),count)\n",
    "    return merge(array[:len(array)//2],array[len(array)//2:],count)"
   ]
  }
 ],
 "metadata": {
  "kernelspec": {
   "display_name": "Python 3 (ipykernel)",
   "language": "python",
   "name": "python3"
  }
 },
 "nbformat": 4,
 "nbformat_minor": 5
}
