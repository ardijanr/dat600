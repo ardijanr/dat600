{
 "cells": [
  {
   "cell_type": "markdown",
   "metadata": {
    "tags": []
   },
   "source": [
    "# Quicksort \n",
    "\n",
    "This works through selecting a pivot and attempting to place it in the correct position relative to all other numbers. ex.\n",
    "\n",
    "1. select pivot\n",
    "2. sort all elements around pivot, we want to end up with an array where all elements to the left are smaller than the pivot, and to the right are all greater than the pivot.\n",
    "3. we can now repeat the steps above, but with the sub arrays being the left and right side of the previous pivot.\n",
    "\n",
    "quicksort_rec divides the problem into two, calling the sorting algorithm each side of the array. However before we ever get into a recursive call we first sort the array as mentioned in step 2 such that we have a pivot, which is placed somewhere correctly in the array and we now have to sort the remaining left and right side.\n",
    "\n",
    "Worst case for this algorithm is really bad n^2, but usually it performs well because of the swapping operation, which usually has an effect of partially sorting the array, producing less remaining calls.\n"
   ]
  },
  {
   "cell_type": "code",
   "execution_count": 46,
   "metadata": {
    "tags": []
   },
   "outputs": [],
   "source": [
    "\n",
    "def partition(array:[int],p:int,r:int):\n",
    "    x = array[r]\n",
    "    p-=1\n",
    "    for j in range(p+1,r):\n",
    "        if array[j]<=x:\n",
    "            p+=1\n",
    "            array[j],array[p] = (array[p],array[j])\n",
    "    array[p+1],array[r] = (array[r],array[p+1])\n",
    "    \n",
    "    return p+1\n",
    "    \n",
    "            \n",
    "def quicksort_rec(array:[int],p:int,r:int):\n",
    "    if p<r:\n",
    "        q = partition(array,p,r)\n",
    "        quicksort_rec(array,p,q-1)\n",
    "        quicksort_rec(array,q+1,r)\n",
    "        \n",
    "def quicksort(array:[int]):\n",
    "    quicksort_rec(array,0,len(array)-1)\n",
    "\n"
   ]
  },
  {
   "cell_type": "code",
   "execution_count": 47,
   "metadata": {
    "tags": []
   },
   "outputs": [
    {
     "name": "stdout",
     "output_type": "stream",
     "text": [
      "[0, 0, 1, 2, 3, 4, 4, 5, 5, 6, 6, 7, 8, 8, 9]\n"
     ]
    }
   ],
   "source": [
    "unsorted_array = [7,6,8,4,6,9,0,5,4,2,1,3,5,8,0]\n",
    "quicksort(unsorted_array)\n",
    "\n",
    "print(unsorted_array)"
   ]
  },
  {
   "cell_type": "code",
   "execution_count": null,
   "metadata": {},
   "outputs": [],
   "source": []
  },
  {
   "cell_type": "code",
   "execution_count": null,
   "metadata": {},
   "outputs": [],
   "source": []
  }
 ],
 "metadata": {
  "kernelspec": {
   "display_name": "Python 3 (ipykernel)",
   "language": "python",
   "name": "python3"
  },
  "language_info": {
   "codemirror_mode": {
    "name": "ipython",
    "version": 3
   },
   "file_extension": ".py",
   "mimetype": "text/x-python",
   "name": "python",
   "nbconvert_exporter": "python",
   "pygments_lexer": "ipython3",
   "version": "3.10.9"
  }
 },
 "nbformat": 4,
 "nbformat_minor": 4
}
