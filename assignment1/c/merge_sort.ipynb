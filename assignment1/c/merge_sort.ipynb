{
 "cells": [
  {
   "cell_type": "code",
   "execution_count": 11,
   "metadata": {
    "tags": []
   },
   "outputs": [
    {
     "name": "stdout",
     "output_type": "stream",
     "text": [
      "0, 0, 1, 2, 3, 4, 4, 5, 5, 6, 6, 7, 8, 8, 9"
     ]
    }
   ],
   "source": [
    "#include <stdio.h>\n",
    "\n",
    "void merge(int (*array)[], int left, int mid, int right) {\n",
    "    int length_left = mid - left + 1;\n",
    "    int length_right = right - mid;\n",
    "\n",
    "    int L[length_left], R[length_right];\n",
    "    \n",
    "    // Creates two arrays with values from the left and right part\n",
    "    // of the input array.\n",
    "    {\n",
    "        for (int i = 0; i < length_left; i++) {\n",
    "            L[i] = (*array)[left + i];\n",
    "        }\n",
    "        for (int j = 0; j < length_right; j++) {\n",
    "            R[j] = (*array)[mid + 1 + j];\n",
    "        }\n",
    "    }\n",
    "\n",
    "    int i = 0;\n",
    "    int j = 0;\n",
    "    int k = left;\n",
    "\n",
    "    while (i < length_left && j < length_right) {\n",
    "        if (L[i] <= R[j]) {\n",
    "            (*array)[k] = L[i];\n",
    "            i++;\n",
    "        } else {\n",
    "            (*array)[k] = R[j];\n",
    "            j++;\n",
    "        }\n",
    "        k++;\n",
    "    }\n",
    "\n",
    "    // Puts the remaining elements in the two subarrays\n",
    "    // back into the original array.\n",
    "    {\n",
    "        while (i < length_left) {\n",
    "            (*array)[k] = L[i];\n",
    "            i++;\n",
    "            k++;\n",
    "        }\n",
    "\n",
    "        while (j < length_right) {\n",
    "            (*array)[k] = R[j];\n",
    "            j++;\n",
    "            k++;\n",
    "        }\n",
    "    }\n",
    "}\n",
    "\n",
    "void mergesort_rec(int (*array)[], int left, int right) {\n",
    "    if (left < right) {\n",
    "        int mid = left + (right - left) / 2;\n",
    "\n",
    "        mergesort_rec(array, left, mid);\n",
    "        mergesort_rec(array, mid + 1, right);\n",
    "\n",
    "        merge(array, left, mid, right);\n",
    "    }\n",
    "}\n",
    "\n",
    "void mergesort(int (*array)[], int length) {\n",
    "    mergesort_rec(array, 0, length - 1);\n",
    "}\n",
    "\n",
    "int main() {\n",
    "    int unsorted_array[] = {7, 6, 8, 4, 6, 9, 0, 5, 4, 2, 1, 3, 5, 8, 0};\n",
    "    int length = sizeof(unsorted_array) / sizeof(int);\n",
    "\n",
    "    mergesort(&unsorted_array, length);\n",
    "\n",
    "    for (int i = 0; i < length; i++) {\n",
    "        printf(\"%d\", unsorted_array[i]);\n",
    "        if (i != length - 1) {\n",
    "            printf(\", \");\n",
    "        }\n",
    "    }\n",
    "\n",
    "    return 0;\n",
    "}"
   ]
  },
  {
   "cell_type": "code",
   "execution_count": null,
   "metadata": {},
   "outputs": [],
   "source": []
  }
 ],
 "metadata": {
  "kernelspec": {
   "display_name": "c-example kernel",
   "language": "c",
   "name": "c-example"
  },
  "language_info": {
   "file_extension": ".c",
   "mimetype": "text/plain",
   "name": "c"
  }
 },
 "nbformat": 4,
 "nbformat_minor": 4
}
