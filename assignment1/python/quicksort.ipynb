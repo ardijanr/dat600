{
 "cells": [
  {
   "cell_type": "markdown",
   "metadata": {
    "tags": []
   },
   "source": [
    "# Quicksort \n",
    "\n",
    "This works through selecting a pivot and attempting to place it in the correct position relative to all other numbers. ex.\n",
    "\n",
    "1. select pivot\n",
    "2. sort all elements around pivot, we want to end up with an array where all elements to the left are smaller than the pivot, and to the right are all greater than the pivot.\n",
    "3. we can now repeat the steps above, but with the sub arrays being the left and right side of the previous pivot.\n",
    "\n",
    "quicksort_rec divides the problem into two, calling the sorting algorithm each side of the array. However before we ever get into a recursive call we first sort the array as mentioned in step 2 such that we have a pivot, which is placed somewhere correctly in the array and we now have to sort the remaining left and right side.\n",
    "\n",
    "Worst case for this algorithm is really bad n^2, but usually it performs well because of the swapping operation, which usually has an effect of partially sorting the array, producing less remaining calls.\n"
   ]
  },
  {
   "cell_type": "code",
   "execution_count": 72,
   "metadata": {
    "tags": []
   },
   "outputs": [],
   "source": [
    "\n",
    "def partition(array:[int],p:int,r:int,count:[int]):\n",
    "    x = array[r]\n",
    "    p-=1\n",
    "    for j in range(p+1,r):\n",
    "        count[0]+=1\n",
    "        if array[j]<=x:\n",
    "            p+=1\n",
    "            array[j],array[p] = (array[p],array[j])\n",
    "    \n",
    "    count[0]+=1\n",
    "    array[p+1],array[r] = (array[r],array[p+1])\n",
    "    \n",
    "    return p+1\n",
    "    \n",
    "            \n",
    "def quicksort_rec(array:[int],p:int,r:int,count:[int]):\n",
    "    if p<r:\n",
    "        q = partition(array,p,r,count)\n",
    "        quicksort_rec(array,p,q-1,count)\n",
    "        quicksort_rec(array,q+1,r,count)\n",
    "        \n",
    "def quicksort(array:[int],count:[int]):\n",
    "    quicksort_rec(array,0,len(array)-1,count)\n",
    "\n"
   ]
  }
 ],
 "metadata": {
  "kernelspec": {
   "display_name": "Python 3 (ipykernel)",
   "language": "python",
   "name": "python3"
  }
 },
 "nbformat": 4,
 "nbformat_minor": 4
}
