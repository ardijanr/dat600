{
 "cells": [
  {
   "cell_type": "markdown",
   "id": "db5dfda8-414a-437a-8c2a-0fd627d4027a",
   "metadata": {
    "tags": []
   },
   "source": [
    "# Insertion Sort\n",
    "\n",
    "Same implementation as in python\n"
   ]
  },
  {
   "cell_type": "code",
   "execution_count": 14,
   "id": "ca88a344-3d4b-4ce0-bb4f-8925fe12d40e",
   "metadata": {
    "tags": []
   },
   "outputs": [],
   "source": [
    "\n",
    "\n",
    "fn insertion_sort<T: std::cmp::PartialOrd + Copy + Clone>(array: &mut Vec<T>){\n",
    "    for mut i in 1..array.len(){\n",
    "        while i>0 && array[i]<array[i-1]{\n",
    "            (array[i],array[i-1]) = (array[i-1],array[i]);\n",
    "            i-=1;\n",
    "        };\n",
    "    };\n",
    "}"
   ]
  },
  {
   "cell_type": "markdown",
   "id": "385caf5c-1900-4283-8467-0a5685975e5d",
   "metadata": {},
   "source": [
    "THis is markdown"
   ]
  },
  {
   "cell_type": "code",
   "execution_count": 15,
   "id": "d0ebf3e9-eabf-412e-a4d0-213a720e3205",
   "metadata": {
    "tags": []
   },
   "outputs": [
    {
     "name": "stdout",
     "output_type": "stream",
     "text": [
      "[0, 0, 1, 2, 3, 4, 4, 5, 5, 6, 6, 7, 8, 8, 9]\n"
     ]
    }
   ],
   "source": [
    "let mut unsorted_array = vec![7,6,8,4,6,9,0,5,4,2,1,3,5,8,0];\n",
    "\n",
    "insertion_sort(&mut unsorted_array);\n",
    "println!(\"{:?}\",unsorted_array);"
   ]
  },
  {
   "cell_type": "code",
   "execution_count": null,
   "id": "e2ef10de-34fd-4427-883a-e83e6e693db4",
   "metadata": {},
   "outputs": [],
   "source": []
  }
 ],
 "metadata": {
  "kernelspec": {
   "display_name": "rust-example kernel",
   "language": "rust",
   "name": "rust-example"
  },
  "language_info": {
   "codemirror_mode": "rust",
   "file_extension": ".rs",
   "mimetype": "text/rust",
   "name": "Rust",
   "pygment_lexer": "rust",
   "version": ""
  }
 },
 "nbformat": 4,
 "nbformat_minor": 5
}
