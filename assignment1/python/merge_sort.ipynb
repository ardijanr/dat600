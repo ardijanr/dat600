{
 "cells": [
  {
   "cell_type": "code",
   "execution_count": 8,
   "id": "132d35f0-c86a-4fe7-be0f-088038f3a643",
   "metadata": {
    "tags": [],
    "vscode": {
     "languageId": "rust"
    }
   },
   "outputs": [
    {
     "name": "stdout",
     "output_type": "stream",
     "text": [
      "hello world\n"
     ]
    }
   ],
   "source": [
    "println!(\"hello world\");"
   ]
  },
  {
   "cell_type": "code",
   "execution_count": null,
   "id": "21785a4d-7145-4e94-ae1a-d0751a215f64",
   "metadata": {
    "vscode": {
     "languageId": "rust"
    }
   },
   "outputs": [],
   "source": []
  }
 ],
 "metadata": {
  "kernelspec": {
   "display_name": "rust-example kernel",
   "language": "rust",
   "name": "rust-example"
  },
  "language_info": {
   "codemirror_mode": "rust",
   "file_extension": ".rs",
   "mimetype": "text/rust",
   "name": "Rust",
   "pygment_lexer": "rust",
   "version": ""
  }
 },
 "nbformat": 4,
 "nbformat_minor": 5
}
