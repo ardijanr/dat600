{
 "cells": [
  {
   "cell_type": "markdown",
   "metadata": {},
   "source": [
    "# Heap Sort\n",
    "\n",
    "This works through creating a heap, then draining each element out to one side and by reducing the heap size within the array."
   ]
  },
  {
   "cell_type": "code",
   "execution_count": 96,
   "metadata": {
    "tags": []
   },
   "outputs": [],
   "source": [
    "def get_child_right_index(i:int)->int:\n",
    "    return 2*i+2\n",
    "\n",
    "def get_child_left_index(i:int)->int:\n",
    "    return 2*i+1\n",
    "\n",
    "def generate_heap(array:[int],parent:int,heap_size:int):\n",
    "    left = get_child_left_index(parent)\n",
    "    right = get_child_right_index(parent)\n",
    "\n",
    "    largest = parent\n",
    "    if left < heap_size and array[left] > array[largest]:\n",
    "        largest = left\n",
    "\n",
    "\n",
    "    if right < heap_size and array[right] > array[largest]:\n",
    "        largest = right\n",
    "\n",
    "    if largest != parent:\n",
    "        array[parent], array[largest] = (array[largest],array[parent])\n",
    "        generate_heap(array,parent,heap_size)\n",
    "\n",
    "def sort(array):\n",
    "    for root in range(len(array)//2-1,-1,-1):\n",
    "        generate_heap(array,root,len(array))\n",
    "\n",
    "    for array_size in range(len(array)-1,0,-1):\n",
    "        array[0], array[array_size] = (array[array_size],array[0])\n",
    "        generate_heap(array,0,array_size)"
   ]
  },
  {
   "cell_type": "code",
   "execution_count": 97,
   "metadata": {
    "tags": []
   },
   "outputs": [
    {
     "name": "stdout",
     "output_type": "stream",
     "text": [
      "[0, 1, 2, 1, 3, 4, 6, 7]\n"
     ]
    }
   ],
   "source": [
    "unsorted_array = [1,2,7,3,1,0,4,6]\n",
    "\n",
    "sort(unsorted_array)\n",
    "\n",
    "\n",
    "print(unsorted_array)"
   ]
  },
  {
   "cell_type": "code",
   "execution_count": null,
   "metadata": {},
   "outputs": [],
   "source": []
  },
  {
   "cell_type": "code",
   "execution_count": null,
   "metadata": {},
   "outputs": [],
   "source": []
  }
 ],
 "metadata": {
  "kernelspec": {
   "display_name": "Python 3 (ipykernel)",
   "language": "python",
   "name": "python3"
  },
  "language_info": {
   "codemirror_mode": {
    "name": "ipython",
    "version": 3
   },
   "file_extension": ".py",
   "mimetype": "text/x-python",
   "name": "python",
   "nbconvert_exporter": "python",
   "pygments_lexer": "ipython3",
   "version": "3.10.9"
  }
 },
 "nbformat": 4,
 "nbformat_minor": 4
}
