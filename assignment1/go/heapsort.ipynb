{
 "cells": [
  {
   "cell_type": "code",
   "execution_count": 19,
   "metadata": {
    "tags": []
   },
   "outputs": [],
   "source": [
    "import (\n",
    "    \"fmt\"\n",
    "    \"math/rand\"\n",
    "    \"time\"\n",
    ")\n",
    "// https://yourbasic.org/golang/shuffle-slice-array/\n",
    "func generateShuffled(length int) []int {\n",
    "\ta := makeRange(0, length)\n",
    "\trand.Seed(time.Now().UnixNano())\n",
    "\trand.Shuffle(len(a), func(i, j int) { a[i], a[j] = a[j], a[i] })\n",
    "\treturn a\n",
    "}\n",
    "\n",
    "// https://stackoverflow.com/questions/39868029/how-to-generate-a-sequence-of-numbers\n",
    "func makeRange(min, max int) []int {\n",
    "\ta := make([]int, max-min+1)\n",
    "\tfor i := range a {\n",
    "\t\ta[i] = min + i\n",
    "\t}\n",
    "\treturn a\n",
    "}\n",
    "\n",
    "func getChildRightIndex(i int) int {\n",
    "    return 2 * i + 2\n",
    "}\n",
    "\n",
    "func getChildLeftIndex(i int) int {\n",
    "    return 2 * i + 1\n",
    "}\n",
    "\n",
    "func generateHeap(array []int, parent int, heapSize int) {\n",
    "    left := getChildLeftIndex(parent)\n",
    "    right := getChildRightIndex(parent)\n",
    "    \n",
    "    largest := parent\n",
    "    if left < heapSize && array[left] > array[largest] {\n",
    "        largest = left\n",
    "    }\n",
    "    \n",
    "    if right < heapSize && array[right] > array[largest] {\n",
    "        largest = right\n",
    "    }\n",
    "    \n",
    "    if largest != parent {\n",
    "        array[parent], array[largest] = array[largest], array[parent]\n",
    "        generateHeap(array, largest, heapSize)\n",
    "    }\n",
    "}\n",
    "\n",
    "func sort(array []int) {\n",
    "    for i := len(array) / 2 - 1; i >= 0; i-- {\n",
    "        generateHeap(array, i, len(array))\n",
    "    }\n",
    "    \n",
    "    for i := len(array) - 1; i > 0; i-- {\n",
    "        array[0], array[i] = array[i], array[0]\n",
    "        generateHeap(array, 0, i)\n",
    "    }\n",
    "}"
   ]
  },
  {
   "cell_type": "code",
   "execution_count": 26,
   "metadata": {
    "tags": []
   },
   "outputs": [
    {
     "name": "stdout",
     "output_type": "stream",
     "text": [
      "[0 1 2 3 4 5 6 7 8 9 10]\n",
      "212.323µs\n"
     ]
    },
    {
     "data": {
      "text/plain": [
       "11 <nil>"
      ]
     },
     "execution_count": 26,
     "metadata": {},
     "output_type": "execute_result"
    }
   ],
   "source": [
    "unsortedList := generateShuffled(10)\n",
    "startTime := time.Now()\n",
    "sort(unsortedList)\n",
    "endTime := time.Now()\n",
    "executionTime := endTime.Sub(startTime)\n",
    "fmt.Println(unsortedList)\n",
    "fmt.Println(executionTime)"
   ]
  },
  {
   "cell_type": "code",
   "execution_count": null,
   "metadata": {},
   "outputs": [],
   "source": []
  }
 ],
 "metadata": {
  "kernelspec": {
   "display_name": "go-example kernel",
   "language": "go",
   "name": "go-example"
  },
  "language_info": {
   "codemirror_mode": "",
   "file_extension": ".go",
   "mimetype": "",
   "name": "go",
   "nbconvert_exporter": "",
   "pygments_lexer": "",
   "version": "go1.19.4"
  }
 },
 "nbformat": 4,
 "nbformat_minor": 4
}
