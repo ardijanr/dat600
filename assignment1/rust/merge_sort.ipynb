{
 "cells": [
  {
   "cell_type": "markdown",
   "id": "f2e4fbb2-ce4c-46cd-8640-c957f745565c",
   "metadata": {
    "tags": []
   },
   "source": [
    "# Merge Sort\n",
    "\n",
    "Same as python, however we now avoid shifting the array after each removal of the first index. The data is not mutated and just read and appended to the new array. This requires a bit more memory since we are not deleting elements as we go, but it speeds up the computation by avoiding another n shifts each time we remove an element."
   ]
  },
  {
   "cell_type": "code",
   "execution_count": 16,
   "id": "21785a4d-7145-4e94-ae1a-d0751a215f64",
   "metadata": {},
   "outputs": [],
   "source": [
    "fn merge<'a, T: std::cmp::PartialOrd + Copy + Clone>(left: &'a [T], right: &'a [T]) -> Vec<T> {\n",
    "    let mut result: Vec<T> = vec![];\n",
    "    let mut left_size = 0;\n",
    "    let mut right_size = 0;\n",
    "    while left_size < left.len() && right_size < right.len() {\n",
    "        if left[left_size] <= right[right_size] {\n",
    "            result.push(left[left_size]);\n",
    "            left_size += 1;\n",
    "        } else {\n",
    "            result.push(right[right_size]);\n",
    "            right_size += 1;\n",
    "        }\n",
    "    }\n",
    "\n",
    "    (left_size..left.len()).for_each(|i| result.push(left[i]));\n",
    "    (right_size..right.len()).for_each(|i| result.push(right[i]));\n",
    "\n",
    "    result\n",
    "}\n",
    "\n",
    "fn merge_sort<T: std::cmp::PartialOrd + Copy + Clone>(array: &[T]) -> Vec<T> {\n",
    "    if array.len() > 3 {\n",
    "        return merge(\n",
    "            merge_sort(&array[..array.len() / 2]).as_slice(),\n",
    "            merge_sort(&array[array.len() / 2..]).as_slice(),\n",
    "        );\n",
    "    }\n",
    "    merge(&array[..array.len() / 2], &array[array.len() / 2..])\n",
    "}"
   ]
  },
  {
   "cell_type": "code",
   "execution_count": 17,
   "id": "ae0d9c50-58bd-4d23-89bd-a0f83096ec01",
   "metadata": {
    "tags": []
   },
   "outputs": [
    {
     "name": "stdout",
     "output_type": "stream",
     "text": [
      "[0, 0, 0, 1, 2, 3, 4, 4, 5, 5, 6, 6, 7, 8, 8, 9]\n"
     ]
    }
   ],
   "source": [
    "let unsorted_array = vec![7,6,8,4,6,9,0,5,4,2,1,3,5,8,0,0];\n",
    "println!(\"{:?}\",merge_sort(unsorted_array.as_slice()));"
   ]
  },
  {
   "cell_type": "code",
   "execution_count": null,
   "id": "315b1c09-b6ab-4d48-9747-0964a2790ac8",
   "metadata": {},
   "outputs": [],
   "source": []
  }
 ],
 "metadata": {
  "kernelspec": {
   "display_name": "rust-example kernel",
   "language": "rust",
   "name": "rust-example"
  },
  "language_info": {
   "codemirror_mode": "rust",
   "file_extension": ".rs",
   "mimetype": "text/rust",
   "name": "Rust",
   "pygment_lexer": "rust",
   "version": ""
  }
 },
 "nbformat": 4,
 "nbformat_minor": 5
}
