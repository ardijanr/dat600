{
 "cells": [
  {
   "cell_type": "code",
   "execution_count": null,
   "metadata": {},
   "outputs": [],
   "source": []
  }
 ],
 "metadata": {
  "kernelspec": {
   "display_name": "c-example kernel",
   "language": "c",
   "name": "c-example"
  },
  "language_info": {
   "name": "c"
  }
 },
 "nbformat": 4,
 "nbformat_minor": 2
}
