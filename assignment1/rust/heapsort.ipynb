{
 "cells": [
  {
   "cell_type": "markdown",
   "metadata": {
    "tags": []
   },
   "source": [
    "# Heap Sort\n",
    "\n",
    "same as python implementation"
   ]
  },
  {
   "cell_type": "code",
   "execution_count": 2,
   "metadata": {
    "tags": []
   },
   "outputs": [
    {
     "name": "stdout",
     "output_type": "stream",
     "text": [
      "[0, 1, 2, 1, 3, 4, 6, 7]\n"
     ]
    }
   ],
   "source": [
    "fn generate_heap<T : std::cmp::PartialOrd + Copy + Clone >(array:&mut Vec<T>,parent:usize,heap_size:usize){\n",
    "    let left = 2*parent+1;\n",
    "    let right = 2*parent+2;\n",
    "    \n",
    "    let mut largest = parent;\n",
    "    if left < heap_size && array[left] > array[largest] {\n",
    "       largest = left\n",
    "    } ;\n",
    "    \n",
    "    if right < heap_size && array[right] > array[largest] {\n",
    "        largest = right\n",
    "    };\n",
    "    \n",
    "    if largest != parent{\n",
    "        (array[parent], array[largest]) = (array[largest],array[parent]);\n",
    "        generate_heap(array,parent,heap_size);\n",
    "    }\n",
    "    \n",
    "}\n",
    "\n",
    "\n",
    "fn sort<T: std::cmp::PartialOrd + Copy + Clone >(array:&mut Vec<T>){\n",
    "    (0..array.len()/2-1).rev().for_each(|root| {\n",
    "        generate_heap(array, root, array.len()) \n",
    "    });\n",
    "    \n",
    "    (0..array.len()).rev().for_each(|array_size| {\n",
    "        (array[0], array[array_size]) = (array[array_size],array[0]);\n",
    "        generate_heap(array,0,array_size);\n",
    "    });\n",
    "\n",
    "}\n",
    "\n",
    "\n",
    "let mut unsorted_array = vec![1,2,7,3,1,0,4,6];\n",
    "\n",
    "sort(&mut unsorted_array);\n",
    "\n",
    "\n",
    "println!(\"{:?}\",unsorted_array);\n",
    "\n"
   ]
  },
  {
   "cell_type": "code",
   "execution_count": null,
   "metadata": {},
   "outputs": [],
   "source": []
  },
  {
   "cell_type": "code",
   "execution_count": null,
   "metadata": {},
   "outputs": [],
   "source": []
  }
 ],
 "metadata": {
  "kernelspec": {
   "display_name": "rust-example kernel",
   "language": "rust",
   "name": "rust-example"
  },
  "language_info": {
   "codemirror_mode": "rust",
   "file_extension": ".rs",
   "mimetype": "text/rust",
   "name": "Rust",
   "pygment_lexer": "rust",
   "version": ""
  }
 },
 "nbformat": 4,
 "nbformat_minor": 4
}
