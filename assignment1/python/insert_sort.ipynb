{
 "cells": [
  {
   "cell_type": "markdown",
   "id": "be124373-a002-4b39-beea-0233551f3829",
   "metadata": {
    "tags": []
   },
   "source": [
    "# Insertion sort\n",
    "\n",
    "Start by defining an array:"
   ]
  },
  {
   "cell_type": "markdown",
   "id": "07bb7aba",
   "metadata": {},
   "source": [
    "Define the insert sort algorithm, we want to make it work in place, without copying the array. Thus this function does not return anything. This simply works by moving the larger elements to one side."
   ]
  },
  {
   "cell_type": "code",
   "execution_count": 81,
   "id": "d0ebf3e9-eabf-412e-a4d0-213a720e3205",
   "metadata": {
    "tags": []
   },
   "outputs": [],
   "source": [
    "\n",
    "def insertion_sort(array:[int], count:[int]):\n",
    "    for i in range(1,len(array)):\n",
    "        while i>0 and array[i]<array[i-1]:\n",
    "            array[i],array[i-1] = (array[i-1],array[i])\n",
    "            i-=1\n",
    "            count[0]+=1\n"
   ]
  }
 ],
 "metadata": {
  "kernelspec": {
   "display_name": "Python 3 (ipykernel)",
   "language": "python",
   "name": "python3"
  }
 },
 "nbformat": 4,
 "nbformat_minor": 5
}
