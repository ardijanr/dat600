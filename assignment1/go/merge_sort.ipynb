{
 "cells": [
  {
   "cell_type": "code",
   "execution_count": 3,
   "metadata": {
    "tags": []
   },
   "outputs": [],
   "source": [
    "import (\n",
    "\t\"fmt\"\n",
    "\t\"math/rand\"\n",
    "\t\"time\"\n",
    ")\n",
    "func generateShuffled(length int) []int {\n",
    "\ta := makeRange(0, length)\n",
    "\trand.Seed(time.Now().UnixNano())\n",
    "\trand.Shuffle(len(a), func(i, j int) { a[i], a[j] = a[j], a[i] })\n",
    "\treturn a\n",
    "}\n",
    "\n",
    "// https://stackoverflow.com/questions/39868029/how-to-generate-a-sequence-of-numbers\n",
    "func makeRange(min, max int) []int {\n",
    "\ta := make([]int, max-min+1)\n",
    "\tfor i := range a {\n",
    "\t\ta[i] = min + i\n",
    "\t}\n",
    "\treturn a\n",
    "}\n",
    "\n",
    "\n",
    "func mergeSort(list []int) []int {\n",
    "\tif len(list) <= 1 {\n",
    "\t\treturn list\n",
    "\t}\n",
    "\tcenter := len(list) / 2\n",
    "\tleft := mergeSort(list[:center])\n",
    "\tright := mergeSort(list[center:])\n",
    "\treturn merge(left, right)\n",
    "}\n",
    "\n",
    "func merge(left []int, right []int) []int {\n",
    "\tcombined := []int{}\n",
    "\ti := 0\n",
    "\tj := 0\n",
    "\tfor i < len(left) && j < len(right) {\n",
    "\t\tif left[i] < right[j] {\n",
    "\t\t\tcombined = append(combined, left[i])\n",
    "\t\t\ti++\n",
    "\t\t} else {\n",
    "\t\t\tcombined = append(combined, right[j])\n",
    "\t\t\tj++\n",
    "\t\t}\n",
    "\t}\n",
    "\n",
    "\tfor ; i < len(left); i++ {\n",
    "\t\tcombined = append(combined, left[i])\n",
    "\t}\n",
    "\tfor ; j < len(right); j++ {\n",
    "\t\tcombined = append(combined, right[j])\n",
    "\t}\n",
    "\treturn combined\n",
    "}\n"
   ]
  },
  {
   "cell_type": "code",
   "execution_count": 5,
   "metadata": {
    "tags": []
   },
   "outputs": [
    {
     "name": "stdout",
     "output_type": "stream",
     "text": [
      "[2 10 7 8 9 3 4 0 5 6 1]\n",
      "[0 1 2 3 4 5 6 7 8 9 10]\n",
      "148.878µs\n"
     ]
    },
    {
     "data": {
      "text/plain": [
       "11 <nil>"
      ]
     },
     "execution_count": 5,
     "metadata": {},
     "output_type": "execute_result"
    }
   ],
   "source": [
    "unsortedList := generateShuffled(10)\n",
    "startTime := time.Now()\n",
    "sortedList := mergeSort(unsortedList)\n",
    "endTime := time.Now()\n",
    "executionTime := endTime.Sub(startTime)\n",
    "fmt.Println(unsortedList)\n",
    "fmt.Println(sortedList)\n",
    "fmt.Println(executionTime)"
   ]
  },
  {
   "cell_type": "code",
   "execution_count": null,
   "metadata": {},
   "outputs": [],
   "source": []
  }
 ],
 "metadata": {
  "kernelspec": {
   "display_name": "go-example kernel",
   "language": "go",
   "name": "go-example"
  },
  "language_info": {
   "codemirror_mode": "",
   "file_extension": ".go",
   "mimetype": "",
   "name": "go",
   "nbconvert_exporter": "",
   "pygments_lexer": "",
   "version": "go1.19.4"
  }
 },
 "nbformat": 4,
 "nbformat_minor": 4
}
