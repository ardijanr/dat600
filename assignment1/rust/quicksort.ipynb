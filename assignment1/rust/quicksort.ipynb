{
 "cells": [
  {
   "cell_type": "code",
   "execution_count": 8,
   "metadata": {
    "tags": [],
    "vscode": {
     "languageId": "rust"
    }
   },
   "outputs": [],
   "source": [
    "fn partition<T: std::cmp::PartialOrd + Copy + Clone>(\n",
    "    array: &mut Vec<T>,\n",
    "    mut p: i32,\n",
    "    r: i32,\n",
    ") -> i32 {\n",
    "    let x = array[r as usize];\n",
    "\n",
    "    for j in p..r {\n",
    "        if array[j as usize] <= x {\n",
    "            (array[j as usize], array[p as usize]) = (array[p as usize], array[j as usize]);\n",
    "            p += 1;\n",
    "        }\n",
    "    }\n",
    "\n",
    "    (array[p as usize], array[r as usize]) = (array[r as usize], array[p as usize]);\n",
    "    p\n",
    "}\n",
    "fn quicksort_rec<T: std::cmp::PartialOrd + Copy + Clone>(array: &mut Vec<T>, p: usize, r: usize) {\n",
    "    if p < r {\n",
    "        let q = partition(array, p, r);\n",
    "        quicksort_rec(array, p, q - 1);\n",
    "        quicksort_rec(array, q + 1, r);\n",
    "    }\n",
    "}\n",
    "\n",
    "fn quicksort<T: std::cmp::PartialOrd + Copy + Clone>(array: &mut Vec<T>) {\n",
    "    quicksort_rec(array, 0, array.len() - 1)\n",
    "}"
   ]
  },
  {
   "cell_type": "code",
   "execution_count": 9,
   "metadata": {
    "tags": [],
    "vscode": {
     "languageId": "rust"
    }
   },
   "outputs": [
    {
     "name": "stdout",
     "output_type": "stream",
     "text": [
      "[0, 0, 0, 2, 1, 1, 4, 3, 3, 4, 5, 5, 7, 8, 9]\n"
     ]
    }
   ],
   "source": [
    "let mut unsorted_array = vec![7,6,8,4,6,9,0,5,4,2,1,3,5,8,0];\n",
    "quicksort(&mut unsorted_array);\n",
    "\n",
    "println!(\"{:?}\",unsorted_array);"
   ]
  },
  {
   "cell_type": "code",
   "execution_count": null,
   "metadata": {
    "vscode": {
     "languageId": "rust"
    }
   },
   "outputs": [],
   "source": []
  }
 ],
 "metadata": {
  "kernelspec": {
   "display_name": "rust-example kernel",
   "language": "rust",
   "name": "rust-example"
  },
  "language_info": {
   "codemirror_mode": "rust",
   "file_extension": ".rs",
   "mimetype": "text/rust",
   "name": "Rust",
   "pygment_lexer": "rust",
   "version": ""
  }
 },
 "nbformat": 4,
 "nbformat_minor": 4
}
