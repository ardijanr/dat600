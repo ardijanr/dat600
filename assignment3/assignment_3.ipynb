{
 "cells": [
  {
   "cell_type": "markdown",
   "metadata": {},
   "source": [
    "# DAT600\n",
    "\n",
    "\n",
    "### Ardijan Rexhaj, Daniel Alvsåker, Ove Oftedal\n",
    "\n",
    "\n",
    "## Task 1:\n",
    "\n",
    "### a\\)\n",
    "\n",
    "1 -> [2] <br>\n",
    "2 -> [2, 3, 4] <br>\n",
    "3 -> [1, 2, 5] <br>\n",
    "4 -> [5, 6] <br>\n",
    "5 -> [3, 4] <br>\n",
    "6 -> [4] <br>\n",
    "\n",
    "\n",
    "\n",
    "\n"
   ]
  },
  {
   "cell_type": "markdown",
   "metadata": {},
   "source": []
  }
 ],
 "metadata": {
  "kernelspec": {
   "display_name": "python-dat600 kernel",
   "language": "python",
   "name": "python-dat600"
  }
 },
 "nbformat": 4,
 "nbformat_minor": 2
}
