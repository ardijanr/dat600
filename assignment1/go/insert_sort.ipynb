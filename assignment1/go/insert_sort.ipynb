{
 "cells": [
  {
   "cell_type": "markdown",
   "metadata": {},
   "source": []
  },
  {
   "cell_type": "code",
   "execution_count": 4,
   "metadata": {
    "tags": []
   },
   "outputs": [],
   "source": [
    "import (\n",
    "    \"fmt\"\n",
    "    \"math/rand\"\n",
    "    \"time\"\n",
    ")\n",
    "// https://yourbasic.org/golang/shuffle-slice-array/\n",
    "func generateShuffled(length int) []int {\n",
    "\ta := makeRange(0, length)\n",
    "\trand.Seed(time.Now().UnixNano())\n",
    "\trand.Shuffle(len(a), func(i, j int) { a[i], a[j] = a[j], a[i] })\n",
    "\treturn a\n",
    "}\n",
    "\n",
    "// https://stackoverflow.com/questions/39868029/how-to-generate-a-sequence-of-numbers\n",
    "func makeRange(min, max int) []int {\n",
    "\ta := make([]int, max-min+1)\n",
    "\tfor i := range a {\n",
    "\t\ta[i] = min + i\n",
    "\t}\n",
    "\treturn a\n",
    "}\n",
    "func insertionSort(unsorted []int) []int {\n",
    "\t//Create copy (oneliner)\n",
    "\ta := append([]int{}, unsorted...)\n",
    "\tfor i := 0; i < len(a); i++ {\n",
    "\t\tvar x int = a[i]\n",
    "\t\tvar j int = i\n",
    "\t\tfor j > 0 && a[j-1] > x {\n",
    "\t\t\ta[j] = a[j-1]\n",
    "\t\t\tj -= 1\n",
    "\t\t}\n",
    "\t\ta[j] = x\n",
    "\t}\n",
    "\treturn a\n",
    "}"
   ]
  },
  {
   "cell_type": "code",
   "execution_count": 8,
   "metadata": {
    "tags": []
   },
   "outputs": [
    {
     "name": "stderr",
     "output_type": "stream",
     "text": [
      "[2 5 8 0 7 3 1 10 4 6 9]"
     ]
    },
    {
     "data": {
      "text/plain": [
       "[0 1 2 3 4 5 6 7 8 9 10]"
      ]
     },
     "execution_count": 8,
     "metadata": {},
     "output_type": "execute_result"
    }
   ],
   "source": [
    "unsorted := generateShuffled(10)\n",
    "print(unsorted)\n",
    "insertionSort(unsorted)"
   ]
  },
  {
   "cell_type": "code",
   "execution_count": null,
   "metadata": {},
   "outputs": [],
   "source": []
  }
 ],
 "metadata": {
  "kernelspec": {
   "display_name": "go-example kernel",
   "language": "go",
   "name": "go-example"
  },
  "language_info": {
   "codemirror_mode": "",
   "file_extension": ".go",
   "mimetype": "",
   "name": "go",
   "nbconvert_exporter": "",
   "pygments_lexer": "",
   "version": "go1.19.4"
  }
 },
 "nbformat": 4,
 "nbformat_minor": 4
}
