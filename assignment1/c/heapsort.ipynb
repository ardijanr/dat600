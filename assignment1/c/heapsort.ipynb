{
 "cells": [
  {
   "cell_type": "code",
   "execution_count": 28,
   "metadata": {
    "tags": []
   },
   "outputs": [
    {
     "name": "stdout",
     "output_type": "stream",
     "text": [
      "0, 1, 1, 2, 4, 4, 6, 7"
     ]
    }
   ],
   "source": [
    "#include <stdio.h>\n",
    "\n",
    "int get_child_right_index(int i) {\n",
    "    return 2 * i + 2;\n",
    "}\n",
    "\n",
    "int get_child_left_index(int i) {\n",
    "    return 2 * i + 1;\n",
    "}\n",
    "\n",
    "void generate_heap(int (*array)[], int parent, int heap_size) {\n",
    "    int left = get_child_left_index(parent);\n",
    "    int right = get_child_right_index(parent);\n",
    "    \n",
    "    int largest = parent;\n",
    "    if (left < heap_size && (*array)[left] > (*array)[largest]) {\n",
    "        largest = left;\n",
    "    }\n",
    "    \n",
    "    if (right < heap_size && (*array)[right] > (*array)[largest]) {\n",
    "        largest = right;\n",
    "    }\n",
    "        \n",
    "    if (largest != parent) {\n",
    "        int tmp = (*array)[parent];\n",
    "        (*array)[parent] = (*array)[largest];\n",
    "        (*array)[largest] = tmp;\n",
    "        \n",
    "        generate_heap(array, largest, heap_size);\n",
    "    }\n",
    "}\n",
    "        \n",
    "void sort(int (*array)[], int length) {\n",
    "    for (int root = length / 2 - 1; root >= 0; --root) {\n",
    "        generate_heap(array, root, length);\n",
    "    }\n",
    "    \n",
    "    for (int array_size = length - 1; array_size > 0; --array_size) {\n",
    "        int tmp = (*array)[0];\n",
    "        (*array)[0] = (*array)[array_size];\n",
    "        (*array)[array_size] = tmp;\n",
    "        generate_heap(array, 0, array_size);\n",
    "    }\n",
    "}\n",
    "\n",
    "int main() {\n",
    "    int unsorted_array[] = { 1, 2, 7, 4, 1, 0, 4, 6 };\n",
    "    int length = sizeof(unsorted_array) / sizeof(int);\n",
    "    sort(&unsorted_array, length);\n",
    "    \n",
    "    for (int i = 0; i < length; i++)\n",
    "    {\n",
    "        printf(\"%d\", unsorted_array[i]);\n",
    "        if (i != length - 1) {\n",
    "            printf(\", \");\n",
    "        }\n",
    "    }\n",
    "    \n",
    "    return 0;\n",
    "}"
   ]
  },
  {
   "cell_type": "code",
   "execution_count": null,
   "metadata": {},
   "outputs": [],
   "source": []
  }
 ],
 "metadata": {
  "kernelspec": {
   "display_name": "c-example kernel",
   "language": "c",
   "name": "c-example"
  },
  "language_info": {
   "file_extension": ".c",
   "mimetype": "text/plain",
   "name": "c"
  }
 },
 "nbformat": 4,
 "nbformat_minor": 4
}
