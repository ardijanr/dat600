{
 "cells": [
  {
   "cell_type": "code",
   "execution_count": 2,
   "metadata": {
    "tags": []
   },
   "outputs": [
    {
     "name": "stdout",
     "output_type": "stream",
     "text": [
      "0, 0, 1, 2, 3, 4, 4, 5, 5, 6, 6, 7, 8, 8, 9"
     ]
    }
   ],
   "source": [
    "#include <stdio.h>\n",
    "\n",
    "void insertion_sort(int (*array)[], int length) {\n",
    "    for (int i = 1; i < length; i++) {\n",
    "        while (i > 0 && (*array)[i] < (*array)[i - 1]) {\n",
    "            int tmp = (*array)[i];\n",
    "            (*array)[i] = (*array)[i - 1];\n",
    "            (*array)[i - 1] = tmp;\n",
    "            i -= 1;\n",
    "        }\n",
    "    }\n",
    "}\n",
    "\n",
    "int main() {\n",
    "    int unsorted_array[] = { 7, 6, 8, 4, 6, 9, 0, 5, 4, 2, 1, 3, 5, 8, 0 };\n",
    "    int length = sizeof(unsorted_array) / sizeof(int);\n",
    "    \n",
    "    insertion_sort(&unsorted_array, length);\n",
    "    \n",
    "    for (int i = 0; i < length; i++) {\n",
    "        printf(\"%d\", unsorted_array[i]);\n",
    "        if (i != length - 1) {\n",
    "            printf(\", \");\n",
    "        }\n",
    "    }\n",
    "    \n",
    "    return 0;\n",
    "}"
   ]
  }
 ],
 "metadata": {
  "kernelspec": {
   "display_name": "c-example kernel",
   "language": "c",
   "name": "c-example"
  },
  "language_info": {
   "file_extension": ".c",
   "mimetype": "text/plain",
   "name": "c"
  }
 },
 "nbformat": 4,
 "nbformat_minor": 4
}
