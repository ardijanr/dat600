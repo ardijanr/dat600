{
 "cells": [
  {
   "cell_type": "markdown",
   "id": "be124373-a002-4b39-beea-0233551f3829",
   "metadata": {
    "tags": []
   },
   "source": [
    "# Insertion sort\n",
    "\n",
    "Start by defining an array:"
   ]
  },
  {
   "cell_type": "code",
   "execution_count": 7,
   "id": "385caf5c-1900-4283-8467-0a5685975e5d",
   "metadata": {
    "tags": []
   },
   "outputs": [],
   "source": [
    "unsorted_array = [7,6,8,4,6,9,0,5,4,2,1,3,5,8,0]"
   ]
  },
  {
   "cell_type": "markdown",
   "id": "07bb7aba",
   "metadata": {},
   "source": [
    "Define the insert sort algorithm, we want to make it work in place, without copying the array. Thus this function does not return anything"
   ]
  },
  {
   "cell_type": "code",
   "execution_count": 8,
   "id": "d0ebf3e9-eabf-412e-a4d0-213a720e3205",
   "metadata": {
    "tags": []
   },
   "outputs": [],
   "source": [
    "\n",
    "def insertion_sort(array:[int]):\n",
    "    for i in range(1,len(array)):\n",
    "        while i-1>=0 and array[i]<array[i-1]:\n",
    "            array[i],array[i-1] = (array[i-1],array[i])\n",
    "            i-=1\n"
   ]
  },
  {
   "cell_type": "code",
   "execution_count": 9,
   "id": "ed01d367",
   "metadata": {
    "tags": []
   },
   "outputs": [
    {
     "name": "stdout",
     "output_type": "stream",
     "text": [
      "[0, 0, 1, 2, 3, 4, 4, 5, 5, 6, 6, 7, 8, 8, 9]\n"
     ]
    }
   ],
   "source": [
    "insertion_sort(unsorted_array)\n",
    "print(unsorted_array)"
   ]
  },
  {
   "cell_type": "code",
   "execution_count": null,
   "id": "d131e17d",
   "metadata": {},
   "outputs": [],
   "source": []
  }
 ],
 "metadata": {
  "kernelspec": {
   "display_name": "Python 3 (ipykernel)",
   "language": "python",
   "name": "python3"
  },
  "language_info": {
   "codemirror_mode": {
    "name": "ipython",
    "version": 3
   },
   "file_extension": ".py",
   "mimetype": "text/x-python",
   "name": "python",
   "nbconvert_exporter": "python",
   "pygments_lexer": "ipython3",
   "version": "3.10.9"
  }
 },
 "nbformat": 4,
 "nbformat_minor": 5
}
