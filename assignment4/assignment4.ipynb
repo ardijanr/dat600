{
 "cells": [
  {
   "cell_type": "markdown",
   "metadata": {},
   "source": [
    "# DAT600\n",
    "\n",
    "\n",
    "### Ardijan Rexhaj, Daniel Alvsåker, Ove Oftedal\n",
    "\n",
    "\n",
    "## Task 1:"
   ]
  },
  {
   "cell_type": "code",
   "execution_count": null,
   "metadata": {},
   "outputs": [],
   "source": []
  }
 ],
 "metadata": {
  "language_info": {
   "name": "python"
  }
 },
 "nbformat": 4,
 "nbformat_minor": 2
}
