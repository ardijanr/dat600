{
 "cells": [
  {
   "cell_type": "code",
   "execution_count": 6,
   "metadata": {
    "tags": []
   },
   "outputs": [
    {
     "name": "stdout",
     "output_type": "stream",
     "text": [
      "0, 0, 1, 2, 3, 4, 4, 5, 5, 6, 6, 7, 8, 8, 9"
     ]
    }
   ],
   "source": [
    "#include <stdio.h>\n",
    "\n",
    "int partition(int (*array)[], int p, int r) {\n",
    "    int x = (*array)[r];\n",
    "    p -= 1;\n",
    "    \n",
    "    for (int j = p + 1; j < r; ++j) {\n",
    "        if ((*array)[j] <= x) {\n",
    "            p += 1;\n",
    "            \n",
    "            int tmp = (*array)[j];\n",
    "            (*array)[j] = (*array)[p];\n",
    "            (*array)[p] = tmp;\n",
    "        }\n",
    "    }\n",
    "    \n",
    "    int tmp = (*array)[p + 1];\n",
    "    (*array)[p + 1] = (*array)[r];\n",
    "    (*array)[r] = tmp;\n",
    "    \n",
    "    return p + 1;\n",
    "}\n",
    "\n",
    "void quicksort_rec(int (*array)[], int p, int r) {\n",
    "    if (p < r) {\n",
    "        int q = partition(array, p, r);\n",
    "        quicksort_rec(array, p, q - 1);\n",
    "        quicksort_rec(array, q + 1, r);\n",
    "    }\n",
    "}\n",
    "\n",
    "void quicksort(int (*array)[], int length) {\n",
    "    quicksort_rec(array, 0, length - 1);\n",
    "}\n",
    "\n",
    "int main() {\n",
    "    int unsorted_array[] = { 7, 6, 8, 4, 6, 9, 0, 5, 4, 2, 1, 3, 5, 8, 0 };\n",
    "    int length = sizeof(unsorted_array) / sizeof(int);\n",
    "    \n",
    "    quicksort(&unsorted_array, length);\n",
    "    \n",
    "    for (int i = 0; i < length; i++) {\n",
    "        printf(\"%d\", unsorted_array[i]);\n",
    "        if (i != length - 1) {\n",
    "            printf(\", \");\n",
    "        }\n",
    "    }\n",
    "    \n",
    "    \n",
    "    return 0;\n",
    "}"
   ]
  },
  {
   "cell_type": "code",
   "execution_count": null,
   "metadata": {},
   "outputs": [],
   "source": []
  }
 ],
 "metadata": {
  "kernelspec": {
   "display_name": "c-example kernel",
   "language": "c",
   "name": "c-example"
  },
  "language_info": {
   "file_extension": ".c",
   "mimetype": "text/plain",
   "name": "c"
  }
 },
 "nbformat": 4,
 "nbformat_minor": 4
}
