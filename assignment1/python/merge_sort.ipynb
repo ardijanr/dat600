{
 "cells": [
  {
   "cell_type": "code",
   "execution_count": 8,
   "id": "132d35f0-c86a-4fe7-be0f-088038f3a643",
   "metadata": {
    "tags": []
   },
   "outputs": [
    {
     "name": "stdout",
     "output_type": "stream",
     "text": [
      "hello world\n"
     ]
    }
   ],
   "source": [
    "println!(\"hello world\");"
   ]
  },
  {
   "cell_type": "code",
   "execution_count": null,
   "id": "21785a4d-7145-4e94-ae1a-d0751a215f64",
   "metadata": {},
   "outputs": [],
   "source": []
  }
 ],
 "metadata": {
  "kernelspec": {
   "display_name": "Python 3 (ipykernel)",
   "language": "python",
   "name": "python3"
  }
 },
 "nbformat": 4,
 "nbformat_minor": 5
}
