{
 "cells": [
  {
   "cell_type": "markdown",
   "metadata": {},
   "source": [
    "# Heap Sort\n",
    "\n",
    "This works through creating a heap, then draining each element out to one side and by reducing the heap size within the array."
   ]
  },
  {
   "cell_type": "code",
   "execution_count": 78,
   "metadata": {
    "tags": []
   },
   "outputs": [],
   "source": [
    "def get_child_right_index(i:int)->int:\n",
    "    return 2*i+2\n",
    "\n",
    "def get_child_left_index(i:int)->int:\n",
    "    return 2*i+1\n",
    "\n",
    "def generate_heap(array:[int],parent:int,heap_size:int,count:[int]):\n",
    "    left = get_child_left_index(parent)\n",
    "    right = get_child_right_index(parent)\n",
    "\n",
    "    count[0]+=1\n",
    "\n",
    "    largest = parent\n",
    "    if left < heap_size and array[left] > array[largest]:\n",
    "        largest = left\n",
    "\n",
    "\n",
    "    if right < heap_size and array[right] > array[largest]:\n",
    "        largest = right\n",
    "\n",
    "    if largest != parent:\n",
    "        array[parent], array[largest] = (array[largest],array[parent])\n",
    "        generate_heap(array,parent,heap_size,count)\n",
    "\n",
    "def sort(array:[int],count:[int]):\n",
    "    for root in range(len(array)//2-1,-1,-1):\n",
    "        generate_heap(array,root,len(array),count)\n",
    "\n",
    "    for array_size in range(len(array)-1,0,-1):\n",
    "        count[0]+=1\n",
    "        array[0], array[array_size] = (array[array_size],array[0])\n",
    "        generate_heap(array,0,array_size,count)"
   ]
  },
  {
   "cell_type": "markdown",
   "metadata": {
    "tags": []
   },
   "source": [
    "# Insertion sort\n",
    "\n",
    "Start by defining an array:"
   ]
  },
  {
   "cell_type": "markdown",
   "metadata": {},
   "source": [
    "Define the insert sort algorithm, we want to make it work in place, without copying the array. Thus this function does not return anything. This simply works by moving the larger elements to one side."
   ]
  },
  {
   "cell_type": "code",
   "execution_count": 81,
   "metadata": {
    "tags": []
   },
   "outputs": [],
   "source": [
    "\n",
    "def insertion_sort(array:[int], count:[int]):\n",
    "    for i in range(1,len(array)):\n",
    "        while i>0 and array[i]<array[i-1]:\n",
    "            array[i],array[i-1] = (array[i-1],array[i])\n",
    "            i-=1\n",
    "            count[0]+=1\n"
   ]
  },
  {
   "cell_type": "markdown",
   "metadata": {},
   "source": [
    "Due to this being python the merge function must be defined before it can be used, this function merges the two sub parts of the array which has been split in two.\n",
    "\n",
    "The goal here is to drain the smallest value first then the larger ones into the result array, thus producing a sorted result.\n"
   ]
  },
  {
   "cell_type": "code",
   "execution_count": 65,
   "metadata": {
    "tags": []
   },
   "outputs": [],
   "source": [
    "def merge(left:[int],right:[int],count:[int])->[int]:\n",
    "    result = []\n",
    "    \n",
    "\n",
    "    # while left and right:\n",
    "    while len(left)>0 and len(right)>0:\n",
    "        count[0]+=1\n",
    "        if left[0]<=right[0]:\n",
    "            result.append(left.pop(0))\n",
    "        else:\n",
    "            result.append(right.pop(0))\n",
    "\n",
    "    # At this point one array is empty\n",
    "    # and the other is not if that is the case\n",
    "    # we must drain them\n",
    "    while len(left)>0:\n",
    "        count[0]+=1\n",
    "        result.append(left.pop(0))\n",
    "    while len(right)>0:\n",
    "        count[0]+=1\n",
    "        result.append(right.pop(0))\n",
    "\n",
    "    return result\n",
    "\n"
   ]
  },
  {
   "cell_type": "markdown",
   "metadata": {},
   "source": [
    "This is the recursive part of the function which slices the arrays into two halves using integer division, ensuring that all elements end up in either the left or right input for the merge function.\n",
    "\n"
   ]
  },
  {
   "cell_type": "code",
   "execution_count": 66,
   "metadata": {
    "tags": []
   },
   "outputs": [],
   "source": [
    "def merge_sort(array:[int],count:[int])->[int]:\n",
    "    if len(array)>3:\n",
    "        return merge(merge_sort(array[:len(array)//2],count),merge_sort(array[len(array)//2:],count),count)\n",
    "    return merge(array[:len(array)//2],array[len(array)//2:],count)"
   ]
  },
  {
   "cell_type": "markdown",
   "metadata": {
    "tags": []
   },
   "source": [
    "# Quicksort \n",
    "\n",
    "This works through selecting a pivot and attempting to place it in the correct position relative to all other numbers. ex.\n",
    "\n",
    "1. select pivot\n",
    "2. sort all elements around pivot, we want to end up with an array where all elements to the left are smaller than the pivot, and to the right are all greater than the pivot.\n",
    "3. we can now repeat the steps above, but with the sub arrays being the left and right side of the previous pivot.\n",
    "\n",
    "quicksort_rec divides the problem into two, calling the sorting algorithm each side of the array. However before we ever get into a recursive call we first sort the array as mentioned in step 2 such that we have a pivot, which is placed somewhere correctly in the array and we now have to sort the remaining left and right side.\n",
    "\n",
    "Worst case for this algorithm is really bad n^2, but usually it performs well because of the swapping operation, which usually has an effect of partially sorting the array, producing less remaining calls.\n"
   ]
  },
  {
   "cell_type": "code",
   "execution_count": 1,
   "metadata": {
    "tags": []
   },
   "outputs": [],
   "source": [
    "\n",
    "def partition(array:[int],p:int,r:int,count:[int]):\n",
    "    x = array[r]\n",
    "    p-=1\n",
    "    for j in range(p+1,r):\n",
    "        count[0]+=1\n",
    "        if array[j]<=x:\n",
    "            p+=1\n",
    "            array[j],array[p] = (array[p],array[j])\n",
    "    \n",
    "    count[0]+=1\n",
    "    array[p+1],array[r] = (array[r],array[p+1])\n",
    "    \n",
    "    return p+1\n",
    "    \n",
    "            \n",
    "def quicksort_rec(array:[int],p:int,r:int,count:[int]):\n",
    "    if p<r:\n",
    "        q = partition(array,p,r,count)\n",
    "        quicksort_rec(array,p,q-1,count)\n",
    "        quicksort_rec(array,q+1,r,count)\n",
    "        \n",
    "def quicksort(array:[int],count:[int]):\n",
    "    quicksort_rec(array,0,len(array)-1,count)\n",
    "\n"
   ]
  },
  {
   "cell_type": "code",
   "execution_count": null,
   "metadata": {},
   "outputs": [],
   "source": []
  }
 ],
 "metadata": {
  "kernelspec": {
   "display_name": "Python 3 (ipykernel)",
   "language": "python",
   "name": "python3"
  },
  "language_info": {
   "codemirror_mode": {
    "name": "ipython",
    "version": 3
   },
   "file_extension": ".py",
   "mimetype": "text/x-python",
   "name": "python",
   "nbconvert_exporter": "python",
   "pygments_lexer": "ipython3",
   "version": "3.10.9"
  }
 },
 "nbformat": 4,
 "nbformat_minor": 4
}
