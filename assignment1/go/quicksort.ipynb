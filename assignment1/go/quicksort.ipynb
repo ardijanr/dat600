{
 "cells": [
  {
   "cell_type": "code",
   "execution_count": null,
   "metadata": {},
   "outputs": [],
   "source": []
  }
 ],
 "metadata": {
  "kernelspec": {
   "display_name": "go-example kernel",
   "language": "go",
   "name": "go-example"
  },
  "language_info": {
   "name": "go"
  }
 },
 "nbformat": 4,
 "nbformat_minor": 2
}
