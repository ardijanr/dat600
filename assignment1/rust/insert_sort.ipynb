{
 "cells": [
  {
   "cell_type": "code",
   "execution_count": 1,
   "id": "be124373-a002-4b39-beea-0233551f3829",
   "metadata": {
    "tags": []
   },
   "outputs": [
    {
     "data": {
      "text/plain": [
       "5"
      ]
     },
     "execution_count": 1,
     "metadata": {},
     "output_type": "execute_result"
    }
   ],
   "source": [
    "3+2"
   ]
  },
  {
   "cell_type": "markdown",
   "id": "2cfadfcd-182b-4b7e-90e4-d22fe5606b0a",
   "metadata": {},
   "source": [
    "Hello world\n",
    "this is a sum"
   ]
  },
  {
   "cell_type": "markdown",
   "id": "385caf5c-1900-4283-8467-0a5685975e5d",
   "metadata": {},
   "source": [
    "THis is markdown"
   ]
  },
  {
   "cell_type": "code",
   "execution_count": 4,
   "id": "d0ebf3e9-eabf-412e-a4d0-213a720e3205",
   "metadata": {
    "tags": []
   },
   "outputs": [
    {
     "name": "stdout",
     "output_type": "stream",
     "text": [
      "4\n"
     ]
    }
   ],
   "source": [
    "code = 2\n",
    "code +=2\n",
    "print(code)"
   ]
  }
 ],
 "metadata": {
  "kernelspec": {
   "display_name": "rust-example kernel",
   "language": "rust",
   "name": "rust-example"
  },
  "language_info": {
   "codemirror_mode": {
    "name": "ipython",
    "version": 3
   },
   "file_extension": ".py",
   "mimetype": "text/x-python",
   "name": "rust",
   "nbconvert_exporter": "python",
   "pygments_lexer": "ipython3",
   "version": "3.10.9"
  }
 },
 "nbformat": 4,
 "nbformat_minor": 5
}
