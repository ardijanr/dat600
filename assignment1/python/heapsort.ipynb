{
 "cells": [
  {
   "cell_type": "code",
   "execution_count": null,
   "metadata": {},
   "outputs": [],
   "source": []
  },
  {
   "cell_type": "code",
   "execution_count": 86,
   "metadata": {
    "tags": []
   },
   "outputs": [],
   "source": [
    "\n",
    "\n",
    "class Heap:\n",
    "    def __init__(self,array:[int]):\n",
    "        self.array=array\n",
    "        self.heap_size = len(array)\n",
    "\n",
    "    def insert(self,value:int):\n",
    "        self.array.insert(0,value)\n",
    "        self.trickle_down(0);\n",
    "        \n",
    "    def sort(self):\n",
    "        for i in range(len(self.array)-1,1,-1):\n",
    "            self.array[0], self.array[i] = (self.array[i],self.array[0])\n",
    "            self.trickle_down(0)\n",
    "            \n",
    "    \n",
    "    def trickle_down(self,parent:int):\n",
    "        left = self.get_child_left_index(parent)\n",
    "        right = self.get_child_right_index(parent)\n",
    "        \n",
    "        largest = 0\n",
    "        if left < self.heap_size and self.array[left] > self.array[parent]:\n",
    "            largest = left\n",
    "        else:\n",
    "            largest = parent\n",
    "\n",
    "        if right < self.heap_size and self.array[right] > self.array[largest]:\n",
    "            largest = right\n",
    "            \n",
    "        if largest != parent:\n",
    "            self.array[parent], self.array[largest] = (self.array[largest],self.array[parent])\n",
    "            self.trickle_down(largest)\n",
    "            \n",
    "\n",
    "\n",
    "    def get_root(self,i:int)->int:\n",
    "        return self.array[0]\n",
    "\n",
    "    def get_parent_index(self,i:int)->int:\n",
    "        return i//2\n",
    "\n",
    "    def get_child_right_index(self,i:int)->int:\n",
    "        return 2*i+1\n",
    "\n",
    "    def get_child_left_index(self,i:int)->int:\n",
    "        return 2*i\n",
    "\n",
    "    def get_leaf_node_indexes(self,i:int)->[int]:\n",
    "        pass\n",
    "    \n",
    "    def print_tree_from(self,i:int):\n",
    "        if i<len(self.array)//2:\n",
    "            print(f\"  {self.array[i]}\")\n",
    "            print(f\"{self.array[self.get_child_left_index(i)]}  {self.array[self.get_child_right_index(i)]}\")\n",
    "            self.print_tree_from(i+1)\n",
    "                \n"
   ]
  },
  {
   "cell_type": "code",
   "execution_count": 87,
   "metadata": {
    "tags": []
   },
   "outputs": [
    {
     "name": "stdout",
     "output_type": "stream",
     "text": [
      "  6\n",
      "6  4\n",
      "  4\n",
      "3  2\n",
      "  3\n",
      "1  0\n",
      "[6, 4, 3, 2, 1, 0, 1]\n"
     ]
    }
   ],
   "source": [
    "unsorted_array = [1,2,7,3,1,0,4,6]\n",
    "\n",
    "heap = Heap(unsorted_array)\n",
    "\n",
    "heap.sort()\n",
    "\n",
    "heap.print_tree_from(0)\n",
    "print(heap.array)"
   ]
  },
  {
   "cell_type": "code",
   "execution_count": null,
   "metadata": {},
   "outputs": [],
   "source": []
  }
 ],
 "metadata": {
  "kernelspec": {
   "display_name": "Python 3 (ipykernel)",
   "language": "python",
   "name": "python3"
  },
  "language_info": {
   "codemirror_mode": {
    "name": "ipython",
    "version": 3
   },
   "file_extension": ".py",
   "mimetype": "text/x-python",
   "name": "python",
   "nbconvert_exporter": "python",
   "pygments_lexer": "ipython3",
   "version": "3.10.9"
  }
 },
 "nbformat": 4,
 "nbformat_minor": 4
}
