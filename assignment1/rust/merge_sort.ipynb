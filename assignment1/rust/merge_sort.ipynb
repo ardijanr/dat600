{
 "cells": [
  {
   "cell_type": "markdown",
   "id": "f2e4fbb2-ce4c-46cd-8640-c957f745565c",
   "metadata": {
    "tags": []
   },
   "source": [
    "# Merge Sort\n",
    "\n",
    "Same as python"
   ]
  },
  {
   "cell_type": "code",
   "execution_count": null,
   "id": "21785a4d-7145-4e94-ae1a-d0751a215f64",
   "metadata": {},
   "outputs": [],
   "source": []
  }
 ],
 "metadata": {
  "kernelspec": {
   "display_name": "rust-example kernel",
   "language": "rust",
   "name": "rust-example"
  },
  "language_info": {
   "codemirror_mode": "rust",
   "file_extension": ".rs",
   "mimetype": "text/rust",
   "name": "Rust",
   "pygment_lexer": "rust",
   "version": ""
  }
 },
 "nbformat": 4,
 "nbformat_minor": 5
}
