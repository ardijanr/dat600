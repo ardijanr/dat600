{
 "cells": [
  {
   "cell_type": "code",
   "execution_count": 11,
   "metadata": {},
   "outputs": [
    {
     "name": "stdout",
     "output_type": "stream",
     "text": [
      "%d [0 0 0 8 8 5 3 1 2 4 5 7 6 8 9]\n"
     ]
    },
    {
     "data": {
      "text/plain": [
       "35 <nil>"
      ]
     },
     "execution_count": 11,
     "metadata": {},
     "output_type": "execute_result"
    }
   ],
   "source": [
    "import (\n",
    "\t\"fmt\"\n",
    "\t\"math/rand\"\n",
    "\t\"time\"\n",
    ")\n",
    "\n",
    "func partition(array []int, p int, r int) int {\n",
    "\tx := array[r];\n",
    "\n",
    "\tfor j := p+1; j <= r; j++ {\n",
    "\t\tif (array[j]<=x) {\n",
    "\t\t\tp++;\n",
    "\t\t\tarray[j], array[p - 1] = array[p - 1], array[j];\n",
    "\t\t}\n",
    "\t}\n",
    "\n",
    "\tarray[p], array[r] = array[p - 1], array[p];\n",
    "\treturn p\n",
    "}\n",
    "\n",
    "\n",
    "\n",
    "func quicksort_rec(array []int, p int, r int) {\n",
    "\tif (p<r) {\n",
    "\t\tq := partition(array,p,r);\n",
    "        quicksort_rec(array, p, q - 1);\n",
    "        quicksort_rec(array, q + 1, r);\n",
    "\t}\n",
    "}\n",
    "\n",
    "func quicksort(array []int){\n",
    "\tquicksort_rec(array, 0, len(array) - 1)\n",
    "}\n",
    "\n",
    "unsorted_array := []int{7,6,8,4,6,9,0,5,4,2,1,3,5,8,0};\n",
    "quicksort(unsorted_array);\n",
    "\n",
    "fmt.Println(unsorted_array);"
   ]
  }
 ],
 "metadata": {
  "kernelspec": {
   "display_name": "go-example kernel",
   "language": "go",
   "name": "go-example"
  },
  "language_info": {
   "codemirror_mode": "",
   "file_extension": ".go",
   "mimetype": "",
   "name": "go",
   "nbconvert_exporter": "",
   "pygments_lexer": "",
   "version": "go1.19.4"
  }
 },
 "nbformat": 4,
 "nbformat_minor": 2
}
